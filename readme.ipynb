{
 "cells": [
  {
   "cell_type": "markdown",
   "metadata": {},
   "source": [
    "# Predicting GDP\n",
    "---\n",
    "**Objective:** predict GDP\n",
    "\n",
    "**Data sources:**\n",
    "- GDP\n",
    "- FedFunds rate\n",
    "- New Articles\n",
    "\n",
    "**Key concepts at play:**\n",
    "- Time Series Data\n",
    "- NLP\n",
    "\n",
    "**Measures of Performance:** Ljung-Box residuals\n",
    "\n",
    "**Methodology:**\n",
    "1. SARIMAX on `GDP` and `FedFunds` (notebook link)\n",
    "2. NLP Feature Engineering: NLP Topic Extraction (notebook link) and Sentiment Analysis (notebook link) as it relates to predicting changes in `GDP`. (notebook link)\n",
    "3. SARIMAX on `GDP` and `Latent NLP` from NLP Feature Engineering\n",
    "\n",
    "**Next Steps**\n",
    "- Parameter tuning\n",
    "- Improve runtime performance\n",
    "- Webapp"
   ]
  },
  {
   "cell_type": "code",
   "execution_count": null,
   "metadata": {},
   "outputs": [],
   "source": []
  }
 ],
 "metadata": {
  "kernelspec": {
   "display_name": "Python 3",
   "language": "python",
   "name": "python3"
  },
  "language_info": {
   "codemirror_mode": {
    "name": "ipython",
    "version": 3
   },
   "file_extension": ".py",
   "mimetype": "text/x-python",
   "name": "python",
   "nbconvert_exporter": "python",
   "pygments_lexer": "ipython3",
   "version": "3.6.4"
  }
 },
 "nbformat": 4,
 "nbformat_minor": 2
}
