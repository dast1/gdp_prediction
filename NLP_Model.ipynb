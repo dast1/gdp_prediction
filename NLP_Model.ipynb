{
 "cells": [
  {
   "cell_type": "code",
   "execution_count": 148,
   "metadata": {},
   "outputs": [],
   "source": [
    "%reload_ext autoreload\n",
    "import numpy as np\n",
    "import pandas as pd\n",
    "from sklearn.ensemble import RandomForestClassifier, RandomForestRegressor\n",
    "from sklearn import metrics\n",
    "\n",
    "from multiprocessing import Pool\n",
    "from tqdm import tqdm_notebook\n",
    "\n",
    "import matplotlib.pyplot as plt\n",
    "%matplotlib inline\n",
    "\n",
    "\n",
    "# import own scripts\n",
    "import sys\n",
    "sys.path.insert(0, '/src/')\n",
    "\n",
    "%autoreload 2\n",
    "from utils import clean_gdp, gdp_change, aggregate_sentiment, Model"
   ]
  },
  {
   "cell_type": "markdown",
   "metadata": {},
   "source": [
    "## Incorporate Sentiment Analysis\n",
    "---"
   ]
  },
  {
   "cell_type": "code",
   "execution_count": null,
   "metadata": {},
   "outputs": [],
   "source": [
    "# load data\n",
    "sentiment = pd.read_csv('src/results/sentiment.csv')\n",
    "gdp = gdp_change(clean_gdp(pd.read_csv('data/GDPC1.csv')))"
   ]
  },
  {
   "cell_type": "code",
   "execution_count": 177,
   "metadata": {},
   "outputs": [],
   "source": [
    "# merge aggregated sentiment \n",
    "df = aggregate_sentiment(gdp, sentiment).set_index(gdp.iloc[1:].index).fillna(0)"
   ]
  },
  {
   "cell_type": "code",
   "execution_count": 178,
   "metadata": {},
   "outputs": [],
   "source": [
    "# add labels\n",
    "df['label'] = list(gdp['%Change']>gdp['%Change'].mean())[1:]"
   ]
  },
  {
   "cell_type": "code",
   "execution_count": 195,
   "metadata": {},
   "outputs": [
    {
     "name": "stdout",
     "output_type": "stream",
     "text": [
      "\n",
      "Model Report\n",
      "Accuracy : 0.5544\n",
      "AUC Score (Train): 0.621340\n",
      "CV Score : Mean - 0.5047254 | Std - 0.02984683 | Min - 0.4655172 | Max - 0.5581098\n"
     ]
    },
    {
     "data": {
      "image/png": "[encoded data removed]",
      "text/plain": [
       "<matplotlib.figure.Figure at 0x1d00fae6a0>"
      ]
     },
     "metadata": {},
     "output_type": "display_data"
    }
   ],
   "source": [
    "# model\n",
    "mod = Model()\n",
    "predictors = list(df.columns)[:-1]\n",
    "target = 'label'\n",
    "mod = mod.modelfit(RandomForestClassifier(n_estimators=1000, \n",
    "                                          n_jobs=-1, \n",
    "                                          max_depth = 2), \n",
    "                   df, \n",
    "                   predictors, \n",
    "                   target, \n",
    "                   performCV=True, \n",
    "                   printFeatureImportance=True, \n",
    "                   cv_folds=5)"
   ]
  },
  {
   "cell_type": "code",
   "execution_count": 160,
   "metadata": {},
   "outputs": [],
   "source": [
    "# load\n",
    "topic_words = pd.read_csv('src/results/top_words_in_topic_NMF.csv').reset_index(drop=True)"
   ]
  },
  {
   "cell_type": "code",
   "execution_count": 196,
   "metadata": {},
   "outputs": [
    {
     "data": {
      "text/html": [
       "<div>\n",
       "<style scoped>\n",
       "    .dataframe tbody tr th:only-of-type {\n",
       "        vertical-align: middle;\n",
       "    }\n",
       "\n",
       "    .dataframe tbody tr th {\n",
       "        vertical-align: top;\n",
       "    }\n",
       "\n",
       "    .dataframe thead th {\n",
       "        text-align: right;\n",
       "    }\n",
       "</style>\n",
       "<table border=\"1\" class=\"dataframe\">\n",
       "  <thead>\n",
       "    <tr style=\"text-align: right;\">\n",
       "      <th></th>\n",
       "      <th>Unnamed: 0</th>\n",
       "      <th>0</th>\n",
       "      <th>1</th>\n",
       "      <th>2</th>\n",
       "      <th>3</th>\n",
       "      <th>4</th>\n",
       "      <th>5</th>\n",
       "      <th>6</th>\n",
       "      <th>7</th>\n",
       "      <th>8</th>\n",
       "      <th>...</th>\n",
       "      <th>10</th>\n",
       "      <th>11</th>\n",
       "      <th>12</th>\n",
       "      <th>13</th>\n",
       "      <th>14</th>\n",
       "      <th>15</th>\n",
       "      <th>16</th>\n",
       "      <th>17</th>\n",
       "      <th>18</th>\n",
       "      <th>19</th>\n",
       "    </tr>\n",
       "  </thead>\n",
       "  <tbody>\n",
       "    <tr>\n",
       "      <th>47</th>\n",
       "      <td>47</td>\n",
       "      <td>job</td>\n",
       "      <td>worker</td>\n",
       "      <td>labor</td>\n",
       "      <td>work</td>\n",
       "      <td>wage</td>\n",
       "      <td>employ</td>\n",
       "      <td>employe</td>\n",
       "      <td>000</td>\n",
       "      <td>union</td>\n",
       "      <td>...</td>\n",
       "      <td>pay</td>\n",
       "      <td>hire</td>\n",
       "      <td>economi</td>\n",
       "      <td>busi</td>\n",
       "      <td>minimum</td>\n",
       "      <td>unemploy</td>\n",
       "      <td>manufactur</td>\n",
       "      <td>econom</td>\n",
       "      <td>industri</td>\n",
       "      <td>american</td>\n",
       "    </tr>\n",
       "    <tr>\n",
       "      <th>96</th>\n",
       "      <td>96</td>\n",
       "      <td>trade</td>\n",
       "      <td>deal</td>\n",
       "      <td>agreement</td>\n",
       "      <td>free</td>\n",
       "      <td>export</td>\n",
       "      <td>negoti</td>\n",
       "      <td>canada</td>\n",
       "      <td>market</td>\n",
       "      <td>econom</td>\n",
       "      <td>...</td>\n",
       "      <td>partnership</td>\n",
       "      <td>manufactur</td>\n",
       "      <td>mexico</td>\n",
       "      <td>import</td>\n",
       "      <td>economi</td>\n",
       "      <td>would</td>\n",
       "      <td>deficit</td>\n",
       "      <td>currenc</td>\n",
       "      <td>polici</td>\n",
       "      <td>commerc</td>\n",
       "    </tr>\n",
       "    <tr>\n",
       "      <th>37</th>\n",
       "      <td>37</td>\n",
       "      <td>china</td>\n",
       "      <td>chines</td>\n",
       "      <td>chinaâ</td>\n",
       "      <td>beij</td>\n",
       "      <td>sea</td>\n",
       "      <td>south</td>\n",
       "      <td>island</td>\n",
       "      <td>philippin</td>\n",
       "      <td>hong</td>\n",
       "      <td>...</td>\n",
       "      <td>militari</td>\n",
       "      <td>asia</td>\n",
       "      <td>region</td>\n",
       "      <td>global</td>\n",
       "      <td>intern</td>\n",
       "      <td>japan</td>\n",
       "      <td>unit</td>\n",
       "      <td>countri</td>\n",
       "      <td>econom</td>\n",
       "      <td>state</td>\n",
       "    </tr>\n",
       "  </tbody>\n",
       "</table>\n",
       "<p>3 rows × 21 columns</p>\n",
       "</div>"
      ],
      "text/plain": [
       "    Unnamed: 0      0       1          2     3       4       5        6  \\\n",
       "47          47    job  worker      labor  work    wage  employ  employe   \n",
       "96          96  trade    deal  agreement  free  export  negoti   canada   \n",
       "37          37  china  chines     chinaâ  beij     sea   south   island   \n",
       "\n",
       "            7       8    ...              10          11       12      13  \\\n",
       "47        000   union    ...             pay        hire  economi    busi   \n",
       "96     market  econom    ...     partnership  manufactur   mexico  import   \n",
       "37  philippin    hong    ...        militari        asia   region  global   \n",
       "\n",
       "         14        15          16       17        18        19  \n",
       "47  minimum  unemploy  manufactur   econom  industri  american  \n",
       "96  economi     would     deficit  currenc    polici   commerc  \n",
       "37   intern     japan        unit  countri    econom     state  \n",
       "\n",
       "[3 rows x 21 columns]"
      ]
     },
     "execution_count": 196,
     "metadata": {},
     "output_type": "execute_result"
    }
   ],
   "source": [
    "topic_words.iloc[[47, 96, 37]]"
   ]
  },
  {
   "cell_type": "code",
   "execution_count": null,
   "metadata": {},
   "outputs": [],
   "source": []
  }
 ],
 "metadata": {
  "kernelspec": {
   "display_name": "Python 3",
   "language": "python",
   "name": "python3"
  },
  "language_info": {
   "codemirror_mode": {
    "name": "ipython",
    "version": 3
   },
   "file_extension": ".py",
   "mimetype": "text/x-python",
   "name": "python",
   "nbconvert_exporter": "python",
   "pygments_lexer": "ipython3",
   "version": "3.6.4"
  }
 },
 "nbformat": 4,
 "nbformat_minor": 2
}
